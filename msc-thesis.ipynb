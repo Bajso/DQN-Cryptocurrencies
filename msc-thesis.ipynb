{
 "cells": [
  {
   "cell_type": "markdown",
   "metadata": {},
   "source": [
    "## Import Data"
   ]
  },
  {
   "cell_type": "code",
   "execution_count": null,
   "metadata": {},
   "outputs": [],
   "source": [
    "%matplotlib inline\n",
    "\n",
    "import json\n",
    "from datetime import datetime\n",
    "from os import path\n",
    "\n",
    "import matplotlib.pyplot as plt\n",
    "import matplotlib.ticker as ticker\n",
    "import pandas as pd\n",
    "import plotly.graph_objs as go\n",
    "import plotly.offline as py\n",
    "import requests\n",
    "import ta\n",
    "from plotly import tools as pytls"
   ]
  },
  {
   "cell_type": "markdown",
   "metadata": {},
   "source": [
    "Binance exchange API config"
   ]
  },
  {
   "cell_type": "code",
   "execution_count": null,
   "metadata": {},
   "outputs": [],
   "source": [
    "# Binance API url\n",
    "root_binance_url = 'https://api.binance.com/api/v1/klines'\n",
    "symbol_url = '?symbol='\n",
    "interval_url = '&interval='\n",
    "start_time_url = '&startTime='\n",
    "end_time_url = '&endTime='\n",
    "# limit is max 500 records, max 1200 requests/minute\n",
    "\n",
    "symbols = ['EOSBTC', 'TRXBTC', 'ONTBTC']\n",
    "# intervals: 1m, 3m, 5m, 15m, 30m, 1h, 2h, 4h, ...\n",
    "intervals = ['5m', '15m', '30m', '1h', '4h', '1d']\n",
    "end_date_time = '20.06.2018 00:00:00'"
   ]
  },
  {
   "cell_type": "markdown",
   "metadata": {},
   "source": [
    "Function for converting datetime into timestamp and vice versa"
   ]
  },
  {
   "cell_type": "code",
   "execution_count": null,
   "metadata": {},
   "outputs": [],
   "source": [
    "def convert_date(val, to_timestamp):\n",
    "    if to_timestamp:\n",
    "        dt = datetime.strptime(val, '%d.%m.%Y %H:%M:%S')\n",
    "        millis_time = dt.timestamp() * 1000\n",
    "        return int(millis_time)\n",
    "    else:\n",
    "        # time units are milliseconds\n",
    "        date_col = pd.to_datetime(val, unit='ms')\n",
    "        return date_col"
   ]
  },
  {
   "cell_type": "markdown",
   "metadata": {},
   "source": [
    "Download data until the set end time and save it into a .json file depending on\n",
    "- the symbol (e.g. EOS, TRX, ONT)\n",
    "- price interval (e.g. 5m, 1h, 1d)"
   ]
  },
  {
   "cell_type": "code",
   "execution_count": null,
   "metadata": {},
   "outputs": [],
   "source": [
    "def get_data(symbol, interval):\n",
    "    # check is data file exists\n",
    "    fname = 'binance_' + symbol + '_' + interval + '.json'\n",
    "    if not path.isfile(fname):\n",
    "        print('Downloading data for {}, interval {}'.format(symbol, interval)) \n",
    "        # from first available timestamp\n",
    "        url = root_binance_url + symbol_url + symbol + interval_url + interval + start_time_url + '0'\n",
    "        data = json.loads(requests.get(url).text)\n",
    "\n",
    "        # new start time is the previous end timestamp, 500 is the limit/max\n",
    "        start_time = data[-1][0]\n",
    "        end_time = convert_date(end_date_time, True)\n",
    "        while start_time < end_time:\n",
    "            url = root_binance_url + symbol_url + symbol + interval_url + interval + start_time_url + str(start_time)\n",
    "            data_new = json.loads(requests.get(url).text)\n",
    "            # omit the first element as it is equal to the last on the previous list\n",
    "            data = data + data_new[1:]\n",
    "            start_time = data[-1][0]\n",
    "\n",
    "        # save it to file\n",
    "        with open(fname, 'w') as f:\n",
    "            json.dump(data, f, sort_keys=True, indent=4, ensure_ascii=False)\n",
    "    else:\n",
    "        print('Data for {}, interval {} already exists...'.format(symbol, interval))\n",
    "        \n",
    "        "
   ]
  },
  {
   "cell_type": "code",
   "execution_count": null,
   "metadata": {},
   "outputs": [],
   "source": [
    "for sym in symbols:\n",
    "    for t in intervals:\n",
    "        print('\\nGetting data for {}, interval {}'.format(sym, t))\n",
    "        get_data(sym, t)"
   ]
  },
  {
   "cell_type": "markdown",
   "metadata": {},
   "source": [
    "## Process Data"
   ]
  },
  {
   "cell_type": "markdown",
   "metadata": {},
   "source": [
    "Remove null values and values greater than specified end time and unnecessary columns."
   ]
  },
  {
   "cell_type": "code",
   "execution_count": null,
   "metadata": {},
   "outputs": [],
   "source": [
    "def process_data(fname):\n",
    "    df = pd.read_json(fname)\n",
    "\n",
    "    # remove any rows with null values\n",
    "    df = df.dropna()\n",
    "\n",
    "    # from binance-api-docs: https://github.com/binance-exchange/binance-official-api-docs/blob/master/rest-api.md\n",
    "    col_names = ['Open Time', 'Open', 'High', 'Low', 'Close', 'Volume', 'Close Time', 'Quote Asset Volume',\n",
    "                 'Number of trades', 'Taker buy base asset volume', 'Taker buy quote asset volume', 'Ignore']\n",
    "    df.columns = col_names\n",
    "    df.drop(df.columns[8:], axis=1, inplace=True)\n",
    "    # Drop unnecessary columns\n",
    "    col_drop_names = ['Open', 'High', 'Low', 'Volume', 'Close Time']\n",
    "    df.drop(col_drop_names, axis=1, inplace=True)\n",
    "\n",
    "    # Quote Asset Volume is volume in base currency = BTC\n",
    "    df.rename(columns={'Quote Asset Volume': 'Volume'}, inplace=True)\n",
    "\n",
    "    # remove rows after end time\n",
    "    end_time = convert_date(end_date_time, to_timestamp=True)\n",
    "    df = df[df['Open Time'] <= end_time]\n",
    "\n",
    "    # sort by ascending date, so that last point represents 15th June 2018\n",
    "    df = df.sort_values(by='Open Time')\n",
    "\n",
    "    return df"
   ]
  },
  {
   "cell_type": "markdown",
   "metadata": {},
   "source": [
    "Normalise values with min-max scaling or z-score"
   ]
  },
  {
   "cell_type": "code",
   "execution_count": null,
   "metadata": {},
   "outputs": [],
   "source": [
    "def normalise_data(data, minmax=True):\n",
    "    if minmax:\n",
    "        # min-max scaling (values between 0 and 1)\n",
    "        nd = (data - min(data)) / (max(data) - min(data))\n",
    "    else:\n",
    "        # z-score (values are not between 0 and 1)\n",
    "        nd = (data - data.mean()) / data.std()\n",
    "\n",
    "    return nd"
   ]
  },
  {
   "cell_type": "code",
   "execution_count": null,
   "metadata": {
    "scrolled": false
   },
   "outputs": [],
   "source": [
    "df_col = {}\n",
    "for sym in symbols:\n",
    "    for t in intervals:\n",
    "        print('\\nGetting data for {}, interval {}'.format(sym, t))\n",
    "        get_data(sym, t)\n",
    "\n",
    "        print('\\nProcessing data for {}, interval {}'.format(sym, t))\n",
    "        filename = 'binance_' + sym + '_' + t + '.json'\n",
    "\n",
    "        df_col[sym + '_' + t] = process_data(filename)"
   ]
  },
  {
   "cell_type": "markdown",
   "metadata": {},
   "source": [
    "## Plotting with Matplotlib"
   ]
  },
  {
   "cell_type": "markdown",
   "metadata": {},
   "source": [
    "Functions for visualisation with Matplotlib"
   ]
  },
  {
   "cell_type": "code",
   "execution_count": null,
   "metadata": {},
   "outputs": [],
   "source": [
    "def plot_individual(data, tag):\n",
    "    fig, (ax1, ax2) = plt.subplots(2, 1, sharex=True, gridspec_kw={'height_ratios': [3, 1]})\n",
    "    fig.suptitle(tag, fontsize=16)\n",
    "\n",
    "    date_col = convert_date(data['Open Time'], False)\n",
    "    ax1.plot(date_col, data['Close'])\n",
    "    ax1.grid(True)\n",
    "    ax1.set_ylabel('Closing Price [BTC]', fontsize=12)\n",
    "    ax1.tick_params(axis='x', which='both', bottom=False, top=False, labelbottom=False)\n",
    "    ax1.locator_params(axis='y', nbins=12)\n",
    "    ax1.yaxis.set_major_formatter(ticker.FormatStrFormatter('%.6f'))\n",
    "\n",
    "    ax2.plot(date_col, data['Volume'])\n",
    "    ax2.grid(True)\n",
    "    ax2.set_ylabel('Volume [BTC]', fontsize=12)\n",
    "    ax2.locator_params(axis='y', nbins=4)\n",
    "\n",
    "    fig.autofmt_xdate()\n",
    "    fig.tight_layout()\n",
    "    fig.subplots_adjust(top=0.90)\n",
    "    plt.show()\n",
    "\n",
    "\n",
    "def plot_all(data):\n",
    "    eos = data['EOSBTC_30m']\n",
    "    eos_np = normalise_data(eos['Close'], minmax=True)\n",
    "    trx = data['TRXBTC_30m']\n",
    "    trx_np = normalise_data(trx['Close'], minmax=True)\n",
    "    ont = data['ONTBTC_30m']\n",
    "    ont_np = normalise_data(ont['Close'], minmax=True)\n",
    "    date_eos = convert_date(eos['Open Time'], False)\n",
    "    date_trx = convert_date(trx['Open Time'], False)\n",
    "    date_ont = convert_date(ont['Open Time'], False)\n",
    "    plt.plot(date_eos, eos_np, 'r', date_trx, trx_np, 'b', date_ont, ont_np, 'g')\n",
    "\n",
    "    plt.grid(True)\n",
    "    plt.ylabel('Normalised Closing Price', fontsize=12)\n",
    "    plt.legend()\n",
    "\n",
    "    plt.show()"
   ]
  },
  {
   "cell_type": "code",
   "execution_count": null,
   "metadata": {},
   "outputs": [],
   "source": [
    "key = 'EOSBTC_30m'\n",
    "plot_individual(df_col[key], key)\n",
    "key = 'TRXBTC_30m'\n",
    "plot_individual(df_col[key], key)\n",
    "key = 'ONTBTC_30m'\n",
    "plot_individual(df_col[key], key)\n",
    "\n",
    "plot_all(df_col)"
   ]
  },
  {
   "cell_type": "markdown",
   "metadata": {},
   "source": [
    "## Plotting with Plotly"
   ]
  },
  {
   "cell_type": "markdown",
   "metadata": {},
   "source": [
    "Functions for visualisations using Plotly library"
   ]
  },
  {
   "cell_type": "code",
   "execution_count": null,
   "metadata": {},
   "outputs": [],
   "source": [
    "def plotly_layout(plot_title, ty1, ty2):\n",
    "    layout = go.Layout(\n",
    "        title=plot_title,\n",
    "        titlefont=dict(\n",
    "            family='Courier New, monospace'\n",
    "        ),\n",
    "        legend=dict(orientation='h'),\n",
    "        xaxis=dict(type='date'),\n",
    "        yaxis=dict(\n",
    "            domain=[0, 0.3],\n",
    "            title=ty1,\n",
    "            titlefont=dict(\n",
    "                family='Courier New, monospace',\n",
    "                size=16\n",
    "            ),\n",
    "            hoverformat='.4f',\n",
    "            tickformat='.f'\n",
    "        ),\n",
    "        yaxis2=dict(\n",
    "            domain=[0.4, 1],\n",
    "            title=ty2,\n",
    "            titlefont=dict(\n",
    "                family='Courier New, monospace',\n",
    "                size=16\n",
    "            ),\n",
    "            hoverformat='.8f',\n",
    "            tickformat='.6f'\n",
    "        )\n",
    "    )\n",
    "\n",
    "    return layout\n",
    "\n",
    "\n",
    "def plotly_individual(data, tag):\n",
    "    py.init_notebook_mode(connected=True)\n",
    "\n",
    "    trace_price = go.Scatter(\n",
    "        x=data['Open Time'],\n",
    "        y=data['Close'],\n",
    "        name=tag[:3]\n",
    "    )\n",
    "\n",
    "    trace_volume = go.Scatter(\n",
    "        x=data['Open Time'],\n",
    "        y=data['Volume'],\n",
    "        xaxis='x',\n",
    "        yaxis='y2',\n",
    "        name=tag[:3]\n",
    "    )\n",
    "\n",
    "    ty1 = 'Volume [BTC]'\n",
    "    ty2 = 'Closing Price [BTC]'\n",
    "    layout = plotly_layout(tag, ty1, ty2)\n",
    "\n",
    "    fig = pytls.make_subplots(rows=2, cols=1, shared_xaxes=True, vertical_spacing=0.01)\n",
    "    fig.append_trace(trace_price, 2, 1)\n",
    "    fig.append_trace(trace_volume, 1, 1)\n",
    "\n",
    "    fig = go.Figure(fig, layout=layout)\n",
    "    py.iplot(fig, filename=tag)\n",
    "\n",
    "\n",
    "def plotly_all(data, labels, normalise=False):\n",
    "    py.init_notebook_mode(connected=True)\n",
    "\n",
    "    fig = pytls.make_subplots(rows=2, cols=1, shared_xaxes=True, vertical_spacing=0.01)\n",
    "    plot_title, ty1, ty2 = '', '', ''\n",
    "\n",
    "    colours = ['#1F77B4', '#B2182B', '#FF7F0E']\n",
    "    for i, key in enumerate(labels):\n",
    "        price_data = data[key]['Close']\n",
    "        vol_data = data[key]['Volume']\n",
    "        open_times = data[key]['Open Time']\n",
    "        plot_title = 'Comparison of Closing Prices and Volume of EOS, TRX and ONT'\n",
    "        ty1 = 'Volume [BTC]'\n",
    "        ty2 = 'Closing Price [BTC]'\n",
    "\n",
    "        if normalise:\n",
    "            price_data = normalise_data(price_data, minmax=True)\n",
    "            vol_data = normalise_data(vol_data, minmax=True)\n",
    "            plot_title = 'Comparison of Normalised Closing Prices and Volume of EOS, TRX and ONT'\n",
    "            ty1 = ty1[:-6]\n",
    "            ty2 = ty2[:-6]\n",
    "\n",
    "        tmp_price = go.Scatter(\n",
    "            x=open_times,\n",
    "            y=price_data,\n",
    "            name=key[:3],\n",
    "            line=dict(color=colours[i])\n",
    "        )\n",
    "        fig.append_trace(tmp_price, 2, 1)\n",
    "\n",
    "        tmp_vol = go.Scatter(\n",
    "            x=open_times,\n",
    "            y=vol_data,\n",
    "            xaxis='x',\n",
    "            yaxis='y2',\n",
    "            name=key[:3],\n",
    "            line=dict(color=colours[i]),\n",
    "            showlegend=False\n",
    "        )\n",
    "        fig.append_trace(tmp_vol, 1, 1)\n",
    "\n",
    "    layout = plotly_layout(plot_title, ty1, ty2)\n",
    "\n",
    "    fig = go.Figure(fig, layout=layout)\n",
    "    py.iplot(fig, filename='all-together')"
   ]
  },
  {
   "cell_type": "code",
   "execution_count": null,
   "metadata": {
    "scrolled": false
   },
   "outputs": [],
   "source": [
    "key = 'EOSBTC_30m'\n",
    "plotly_individual(df_col[key], key)\n",
    "key = 'TRXBTC_30m'\n",
    "plotly_individual(df_col[key], key)\n",
    "key = 'ONTBTC_30m'\n",
    "plotly_individual(df_col[key], key)\n",
    "\n",
    "labels = ['EOSBTC_30m', 'TRXBTC_30m', 'ONTBTC_30m']\n",
    "plotly_all(df_col, labels, normalise=True)"
   ]
  },
  {
   "cell_type": "markdown",
   "metadata": {},
   "source": [
    "## Calculate TA Indicators"
   ]
  },
  {
   "cell_type": "code",
   "execution_count": null,
   "metadata": {},
   "outputs": [],
   "source": [
    "def calculate_ta(df):\n",
    "    def moving_average(data_col, n):\n",
    "        ma = data_col.rolling(window=n).mean()\n",
    "        return ma\n",
    "\n",
    "    # Trend Indicators\n",
    "    # Moving Average (MA)\n",
    "    # df['MA_10'] = moving_average(df['Close'], 10)\n",
    "    df['MA_50'] = moving_average(df['Close'], 50)\n",
    "    df['MA_200'] = moving_average(df['Close'], 200)\n",
    "\n",
    "    # Exponential Moving Average (EMA)\n",
    "    df['EMA'] = ta.ema_slow(df['Close'], n_slow=20, fillna=True)\n",
    "\n",
    "    # Moving Average Convergence Divergence (MACD)\n",
    "    df['MACD'] = ta.macd_diff(df['Close'], n_fast=12, n_slow=26, n_sign=9, fillna=True)\n",
    "\n",
    "    # Momentum Indicators\n",
    "    # Relative Strength Index (RSI)\n",
    "    df['RSI'] = ta.rsi(df['Close'], n=14, fillna=True)\n",
    "\n",
    "    # Volatility Indicators\n",
    "    # calc volatility manually\n",
    "    # df['Volatility'] = (df['High'] - df['Low']) / df['Open']\n",
    "\n",
    "    # Bollinger Bands (BB)\n",
    "    df['BB_H'] = ta.bollinger_hband_indicator(df['Close'], n=20, ndev=2, fillna=True)\n",
    "    df['BB_L'] = ta.bollinger_lband_indicator(df['Close'], n=20, ndev=2, fillna=True)\n",
    "\n",
    "    return df"
   ]
  },
  {
   "cell_type": "code",
   "execution_count": null,
   "metadata": {},
   "outputs": [],
   "source": [
    "for key in df_col:\n",
    "    print('\\nCalculating TA indicators for {}, interval {}'.format(key[:3], key.split('_')[1]))\n",
    "    df_col[key] = calculate_ta(df_col[key])"
   ]
  },
  {
   "cell_type": "code",
   "execution_count": null,
   "metadata": {},
   "outputs": [],
   "source": []
  }
 ],
 "metadata": {
  "kernelspec": {
   "display_name": "Python 3",
   "language": "python",
   "name": "python3"
  },
  "language_info": {
   "codemirror_mode": {
    "name": "ipython",
    "version": 3
   },
   "file_extension": ".py",
   "mimetype": "text/x-python",
   "name": "python",
   "nbconvert_exporter": "python",
   "pygments_lexer": "ipython3",
   "version": "3.6.6"
  }
 },
 "nbformat": 4,
 "nbformat_minor": 2
}
